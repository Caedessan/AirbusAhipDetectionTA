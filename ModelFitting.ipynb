{
 "cells": [
  {
   "cell_type": "code",
   "execution_count": 40,
   "metadata": {
    "collapsed": true,
    "pycharm": {
     "name": "#%%\n"
    }
   },
   "outputs": [],
   "source": [
    "import DataGenerator\n",
    "import ShipDetection\n",
    "from keras.callbacks import EarlyStopping, ReduceLROnPlateau, ModelCheckpoint\n",
    "from keras.layers import Input\n",
    "from keras.optimizers import Adam\n",
    "import pandas as pd\n",
    "import glob\n",
    "import tensorflow as tf\n",
    "from keras.models import load_model\n",
    "import matplotlib.pyplot as plt"
   ]
  },
  {
   "cell_type": "markdown",
   "metadata": {
    "pycharm": {
     "name": "#%% md\n"
    }
   },
   "source": [
    "Set local variables"
   ]
  },
  {
   "cell_type": "code",
   "execution_count": 32,
   "metadata": {
    "pycharm": {
     "name": "#%%\n"
    }
   },
   "outputs": [],
   "source": [
    "imgWidth = 256\n",
    "imgHeight = 256\n",
    "batch_size = 8\n",
    "trainDir = \"data/train/\"\n",
    "validDir = \"data/validation/\""
   ]
  },
  {
   "cell_type": "markdown",
   "metadata": {
    "pycharm": {
     "name": "#%% md\n"
    }
   },
   "source": [
    "Set paths to data"
   ]
  },
  {
   "cell_type": "code",
   "execution_count": 33,
   "metadata": {
    "pycharm": {
     "name": "#%%\n"
    }
   },
   "outputs": [],
   "source": [
    "trainPaths = glob.glob(trainDir + \"*.jpg\")\n",
    "validationPaths = glob.glob(validDir + \"*.jpg\")"
   ]
  },
  {
   "cell_type": "code",
   "execution_count": 34,
   "metadata": {
    "pycharm": {
     "name": "#%%\n"
    }
   },
   "outputs": [],
   "source": [
    "train_ship_segmentations_v2 = pd.read_csv(\"train_ship_segmentations_v2.csv\")\n",
    "train_ship_segmentations_v2.set_index(\"ImageId\", inplace=True)"
   ]
  },
  {
   "cell_type": "markdown",
   "metadata": {
    "pycharm": {
     "name": "#%% md\n"
    }
   },
   "source": [
    "Create Data generators for model"
   ]
  },
  {
   "cell_type": "code",
   "execution_count": 35,
   "metadata": {
    "pycharm": {
     "name": "#%%\n"
    }
   },
   "outputs": [],
   "source": [
    "with tf.device(\"/CPU:0\"):\n",
    "    training_generator = DataGenerator.DataGenerator(trainPaths,\n",
    "                                                     train_ship_segmentations_v2,\n",
    "                                                     batch_size=batch_size)\n",
    "    validation_generator = DataGenerator.DataGenerator(validationPaths,\n",
    "                                                       train_ship_segmentations_v2,\n",
    "                                                       batch_size=batch_size)"
   ]
  },
  {
   "cell_type": "markdown",
   "metadata": {
    "pycharm": {
     "name": "#%% md\n"
    }
   },
   "source": [
    "Create model"
   ]
  },
  {
   "cell_type": "code",
   "execution_count": 26,
   "metadata": {
    "pycharm": {
     "name": "#%%\n"
    }
   },
   "outputs": [
    {
     "name": "stderr",
     "output_type": "stream",
     "text": [
      "D:\\AdankoProject\\python\\lib\\site-packages\\keras\\optimizers\\optimizer_v2\\adam.py:110: UserWarning: The `lr` argument is deprecated, use `learning_rate` instead.\n",
      "  super(Adam, self).__init__(name, **kwargs)\n"
     ]
    }
   ],
   "source": [
    "with tf.device(\"/CPU:0\"):\n",
    "    inputImg = Input((imgWidth, imgHeight, 3), name='img')\n",
    "    model = ShipDetection.get_unet(inputImg)\n",
    "    model.compile(optimizer=Adam(lr=0.01), loss=ShipDetection.dice_coef_loss,metrics=['accuracy'])"
   ]
  },
  {
   "cell_type": "code",
   "execution_count": 27,
   "metadata": {
    "pycharm": {
     "name": "#%%\n"
    }
   },
   "outputs": [
    {
     "name": "stdout",
     "output_type": "stream",
     "text": [
      "Model: \"model_2\"\n",
      "__________________________________________________________________________________________________\n",
      " Layer (type)                   Output Shape         Param #     Connected to                     \n",
      "==================================================================================================\n",
      " img (InputLayer)               [(None, 256, 256, 3  0           []                               \n",
      "                                )]                                                                \n",
      "                                                                                                  \n",
      " conv2d_39 (Conv2D)             (None, 256, 256, 16  448         ['img[0][0]']                    \n",
      "                                )                                                                 \n",
      "                                                                                                  \n",
      " batch_normalization_37 (BatchN  (None, 256, 256, 16  64         ['conv2d_39[0][0]']              \n",
      " ormalization)                  )                                                                 \n",
      "                                                                                                  \n",
      " activation_37 (Activation)     (None, 256, 256, 16  0           ['batch_normalization_37[0][0]'] \n",
      "                                )                                                                 \n",
      "                                                                                                  \n",
      " max_pooling2d_8 (MaxPooling2D)  (None, 128, 128, 16  0          ['activation_37[0][0]']          \n",
      "                                )                                                                 \n",
      "                                                                                                  \n",
      " dropout_16 (Dropout)           (None, 128, 128, 16  0           ['max_pooling2d_8[0][0]']        \n",
      "                                )                                                                 \n",
      "                                                                                                  \n",
      " conv2d_41 (Conv2D)             (None, 128, 128, 32  4640        ['dropout_16[0][0]']             \n",
      "                                )                                                                 \n",
      "                                                                                                  \n",
      " batch_normalization_39 (BatchN  (None, 128, 128, 32  128        ['conv2d_41[0][0]']              \n",
      " ormalization)                  )                                                                 \n",
      "                                                                                                  \n",
      " activation_39 (Activation)     (None, 128, 128, 32  0           ['batch_normalization_39[0][0]'] \n",
      "                                )                                                                 \n",
      "                                                                                                  \n",
      " max_pooling2d_9 (MaxPooling2D)  (None, 64, 64, 32)  0           ['activation_39[0][0]']          \n",
      "                                                                                                  \n",
      " dropout_17 (Dropout)           (None, 64, 64, 32)   0           ['max_pooling2d_9[0][0]']        \n",
      "                                                                                                  \n",
      " conv2d_43 (Conv2D)             (None, 64, 64, 64)   18496       ['dropout_17[0][0]']             \n",
      "                                                                                                  \n",
      " batch_normalization_41 (BatchN  (None, 64, 64, 64)  256         ['conv2d_43[0][0]']              \n",
      " ormalization)                                                                                    \n",
      "                                                                                                  \n",
      " activation_41 (Activation)     (None, 64, 64, 64)   0           ['batch_normalization_41[0][0]'] \n",
      "                                                                                                  \n",
      " max_pooling2d_10 (MaxPooling2D  (None, 32, 32, 64)  0           ['activation_41[0][0]']          \n",
      " )                                                                                                \n",
      "                                                                                                  \n",
      " dropout_18 (Dropout)           (None, 32, 32, 64)   0           ['max_pooling2d_10[0][0]']       \n",
      "                                                                                                  \n",
      " conv2d_45 (Conv2D)             (None, 32, 32, 128)  73856       ['dropout_18[0][0]']             \n",
      "                                                                                                  \n",
      " batch_normalization_43 (BatchN  (None, 32, 32, 128)  512        ['conv2d_45[0][0]']              \n",
      " ormalization)                                                                                    \n",
      "                                                                                                  \n",
      " activation_43 (Activation)     (None, 32, 32, 128)  0           ['batch_normalization_43[0][0]'] \n",
      "                                                                                                  \n",
      " max_pooling2d_11 (MaxPooling2D  (None, 16, 16, 128)  0          ['activation_43[0][0]']          \n",
      " )                                                                                                \n",
      "                                                                                                  \n",
      " dropout_19 (Dropout)           (None, 16, 16, 128)  0           ['max_pooling2d_11[0][0]']       \n",
      "                                                                                                  \n",
      " conv2d_47 (Conv2D)             (None, 16, 16, 256)  295168      ['dropout_19[0][0]']             \n",
      "                                                                                                  \n",
      " batch_normalization_45 (BatchN  (None, 16, 16, 256)  1024       ['conv2d_47[0][0]']              \n",
      " ormalization)                                                                                    \n",
      "                                                                                                  \n",
      " activation_45 (Activation)     (None, 16, 16, 256)  0           ['batch_normalization_45[0][0]'] \n",
      "                                                                                                  \n",
      " conv2d_transpose_8 (Conv2DTran  (None, 32, 32, 128)  295040     ['activation_45[0][0]']          \n",
      " spose)                                                                                           \n",
      "                                                                                                  \n",
      " concatenate_8 (Concatenate)    (None, 32, 32, 256)  0           ['conv2d_transpose_8[0][0]',     \n",
      "                                                                  'activation_43[0][0]']          \n",
      "                                                                                                  \n",
      " dropout_20 (Dropout)           (None, 32, 32, 256)  0           ['concatenate_8[0][0]']          \n",
      "                                                                                                  \n",
      " conv2d_49 (Conv2D)             (None, 32, 32, 128)  295040      ['dropout_20[0][0]']             \n",
      "                                                                                                  \n",
      " batch_normalization_47 (BatchN  (None, 32, 32, 128)  512        ['conv2d_49[0][0]']              \n",
      " ormalization)                                                                                    \n",
      "                                                                                                  \n",
      " activation_47 (Activation)     (None, 32, 32, 128)  0           ['batch_normalization_47[0][0]'] \n",
      "                                                                                                  \n",
      " conv2d_transpose_9 (Conv2DTran  (None, 64, 64, 64)  73792       ['activation_47[0][0]']          \n",
      " spose)                                                                                           \n",
      "                                                                                                  \n",
      " concatenate_9 (Concatenate)    (None, 64, 64, 128)  0           ['conv2d_transpose_9[0][0]',     \n",
      "                                                                  'activation_41[0][0]']          \n",
      "                                                                                                  \n",
      " dropout_21 (Dropout)           (None, 64, 64, 128)  0           ['concatenate_9[0][0]']          \n",
      "                                                                                                  \n",
      " conv2d_51 (Conv2D)             (None, 64, 64, 64)   73792       ['dropout_21[0][0]']             \n",
      "                                                                                                  \n",
      " batch_normalization_49 (BatchN  (None, 64, 64, 64)  256         ['conv2d_51[0][0]']              \n",
      " ormalization)                                                                                    \n",
      "                                                                                                  \n",
      " activation_49 (Activation)     (None, 64, 64, 64)   0           ['batch_normalization_49[0][0]'] \n",
      "                                                                                                  \n",
      " conv2d_transpose_10 (Conv2DTra  (None, 128, 128, 32  18464      ['activation_49[0][0]']          \n",
      " nspose)                        )                                                                 \n",
      "                                                                                                  \n",
      " concatenate_10 (Concatenate)   (None, 128, 128, 64  0           ['conv2d_transpose_10[0][0]',    \n",
      "                                )                                 'activation_39[0][0]']          \n",
      "                                                                                                  \n",
      " dropout_22 (Dropout)           (None, 128, 128, 64  0           ['concatenate_10[0][0]']         \n",
      "                                )                                                                 \n",
      "                                                                                                  \n",
      " conv2d_53 (Conv2D)             (None, 128, 128, 32  18464       ['dropout_22[0][0]']             \n",
      "                                )                                                                 \n",
      "                                                                                                  \n",
      " batch_normalization_51 (BatchN  (None, 128, 128, 32  128        ['conv2d_53[0][0]']              \n",
      " ormalization)                  )                                                                 \n",
      "                                                                                                  \n",
      " activation_51 (Activation)     (None, 128, 128, 32  0           ['batch_normalization_51[0][0]'] \n",
      "                                )                                                                 \n",
      "                                                                                                  \n",
      " conv2d_transpose_11 (Conv2DTra  (None, 256, 256, 16  4624       ['activation_51[0][0]']          \n",
      " nspose)                        )                                                                 \n",
      "                                                                                                  \n",
      " concatenate_11 (Concatenate)   (None, 256, 256, 32  0           ['conv2d_transpose_11[0][0]',    \n",
      "                                )                                 'activation_37[0][0]']          \n",
      "                                                                                                  \n",
      " dropout_23 (Dropout)           (None, 256, 256, 32  0           ['concatenate_11[0][0]']         \n",
      "                                )                                                                 \n",
      "                                                                                                  \n",
      " conv2d_55 (Conv2D)             (None, 256, 256, 16  4624        ['dropout_23[0][0]']             \n",
      "                                )                                                                 \n",
      "                                                                                                  \n",
      " batch_normalization_53 (BatchN  (None, 256, 256, 16  64         ['conv2d_55[0][0]']              \n",
      " ormalization)                  )                                                                 \n",
      "                                                                                                  \n",
      " activation_53 (Activation)     (None, 256, 256, 16  0           ['batch_normalization_53[0][0]'] \n",
      "                                )                                                                 \n",
      "                                                                                                  \n",
      " conv2d_56 (Conv2D)             (None, 256, 256, 1)  17          ['activation_53[0][0]']          \n",
      "                                                                                                  \n",
      "==================================================================================================\n",
      "Total params: 1,179,409\n",
      "Trainable params: 1,177,937\n",
      "Non-trainable params: 1,472\n",
      "__________________________________________________________________________________________________\n"
     ]
    }
   ],
   "source": [
    "model.summary()"
   ]
  },
  {
   "cell_type": "markdown",
   "metadata": {
    "pycharm": {
     "name": "#%% md\n"
    }
   },
   "source": [
    "Set fitting callbacks"
   ]
  },
  {
   "cell_type": "code",
   "execution_count": 36,
   "metadata": {
    "pycharm": {
     "name": "#%%\n"
    }
   },
   "outputs": [],
   "source": [
    "callbacks = [\n",
    "    EarlyStopping(patience=10, verbose=1),\n",
    "    ReduceLROnPlateau(factor=0.1, patience=5, min_lr=0.00001, verbose=1),\n",
    "    ModelCheckpoint('model1', verbose=1, save_best_only=True, save_weights_only=True)\n",
    "]"
   ]
  },
  {
   "cell_type": "markdown",
   "metadata": {
    "pycharm": {
     "name": "#%% md\n"
    }
   },
   "source": [
    "Fit model"
   ]
  },
  {
   "cell_type": "code",
   "execution_count": 37,
   "outputs": [],
   "source": [
    "model = load_model(\"modelFinal1\", custom_objects = {\"dice_coef_loss\":ShipDetection.dice_coef_loss})"
   ],
   "metadata": {
    "collapsed": false,
    "pycharm": {
     "name": "#%%\n"
    }
   }
  },
  {
   "cell_type": "code",
   "execution_count": 38,
   "metadata": {
    "pycharm": {
     "name": "#%%\n"
    }
   },
   "outputs": [
    {
     "name": "stdout",
     "output_type": "stream",
     "text": [
      "Epoch 1/5\n",
      "2550/2550 [==============================] - ETA: 0s - loss: 0.9862 - accuracy: 0.9661\n",
      "Epoch 1: val_loss improved from inf to 0.99381, saving model to model1\n",
      "2550/2550 [==============================] - 7331s 3s/step - loss: 0.9862 - accuracy: 0.9661 - val_loss: 0.9938 - val_accuracy: 0.9727 - lr: 0.0100\n",
      "Epoch 2/5\n",
      "2550/2550 [==============================] - ETA: 0s - loss: 0.9859 - accuracy: 0.9647\n",
      "Epoch 2: val_loss improved from 0.99381 to 0.99380, saving model to model1\n",
      "2550/2550 [==============================] - 7130s 3s/step - loss: 0.9859 - accuracy: 0.9647 - val_loss: 0.9938 - val_accuracy: 0.9819 - lr: 0.0100\n",
      "Epoch 3/5\n",
      "2550/2550 [==============================] - ETA: 0s - loss: 0.9857 - accuracy: 0.9653\n",
      "Epoch 3: val_loss did not improve from 0.99380\n",
      "2550/2550 [==============================] - 7258s 3s/step - loss: 0.9857 - accuracy: 0.9653 - val_loss: 0.9940 - val_accuracy: 0.9935 - lr: 0.0100\n",
      "Epoch 4/5\n",
      "2550/2550 [==============================] - ETA: 0s - loss: 0.9855 - accuracy: 0.9655\n",
      "Epoch 4: val_loss improved from 0.99380 to 0.99357, saving model to model1\n",
      "2550/2550 [==============================] - 7173s 3s/step - loss: 0.9855 - accuracy: 0.9655 - val_loss: 0.9936 - val_accuracy: 0.9807 - lr: 0.0100\n",
      "Epoch 5/5\n",
      "2550/2550 [==============================] - ETA: 0s - loss: 0.9853 - accuracy: 0.9652\n",
      "Epoch 5: val_loss improved from 0.99357 to 0.99343, saving model to model1\n",
      "2550/2550 [==============================] - 7067s 3s/step - loss: 0.9853 - accuracy: 0.9652 - val_loss: 0.9934 - val_accuracy: 0.9763 - lr: 0.0100\n"
     ]
    }
   ],
   "source": [
    "with tf.device(\"/CPU:0\"):\n",
    "    results = model.fit(training_generator,\n",
    "                        validation_data=validation_generator,\n",
    "                        epochs=5,\n",
    "                        callbacks=callbacks,\n",
    "                        verbose=1\n",
    "                        )"
   ]
  },
  {
   "cell_type": "code",
   "execution_count": 39,
   "outputs": [
    {
     "name": "stderr",
     "output_type": "stream",
     "text": [
      "WARNING:absl:Found untraced functions such as _jit_compiled_convolution_op, _jit_compiled_convolution_op, _jit_compiled_convolution_op, _jit_compiled_convolution_op, _jit_compiled_convolution_op while saving (showing 5 of 14). These functions will not be directly callable after loading.\n"
     ]
    },
    {
     "name": "stdout",
     "output_type": "stream",
     "text": [
      "INFO:tensorflow:Assets written to: modelFinal1\\assets\n"
     ]
    },
    {
     "name": "stderr",
     "output_type": "stream",
     "text": [
      "INFO:tensorflow:Assets written to: modelFinal1\\assets\n"
     ]
    }
   ],
   "source": [
    "model.save(\"modelFinal1\")"
   ],
   "metadata": {
    "collapsed": false,
    "pycharm": {
     "name": "#%%\n"
    }
   }
  },
  {
   "cell_type": "code",
   "execution_count": null,
   "outputs": [],
   "source": [
    "plt.plot(results.history)"
   ],
   "metadata": {
    "collapsed": false,
    "pycharm": {
     "name": "#%%\n"
    }
   }
  }
 ],
 "metadata": {
  "kernelspec": {
   "display_name": "Python 3 (ipykernel)",
   "language": "python",
   "name": "python3"
  },
  "language_info": {
   "codemirror_mode": {
    "name": "ipython",
    "version": 3
   },
   "file_extension": ".py",
   "mimetype": "text/x-python",
   "name": "python",
   "nbconvert_exporter": "python",
   "pygments_lexer": "ipython3",
   "version": "3.10.6"
  }
 },
 "nbformat": 4,
 "nbformat_minor": 1
}